{
 "cells": [
  {
   "cell_type": "code",
   "execution_count": 1,
   "metadata": {},
   "outputs": [],
   "source": [
    "import openai \n",
    "from dotenv import load_dotenv\n",
    "import telebot\n",
    "import os"
   ]
  },
  {
   "cell_type": "code",
   "execution_count": 2,
   "metadata": {},
   "outputs": [
    {
     "data": {
      "text/plain": [
       "True"
      ]
     },
     "execution_count": 2,
     "metadata": {},
     "output_type": "execute_result"
    }
   ],
   "source": [
    "load_dotenv()"
   ]
  },
  {
   "cell_type": "code",
   "execution_count": 3,
   "metadata": {},
   "outputs": [],
   "source": [
    "# Initialize the OpenAI API with your API key\n",
    "openai.api_key = os.getenv('OPENAI_API_KEY')"
   ]
  },
  {
   "cell_type": "markdown",
   "metadata": {},
   "source": [
    "## Simple Telegram Bot"
   ]
  },
  {
   "cell_type": "code",
   "execution_count": 6,
   "metadata": {},
   "outputs": [],
   "source": [
    "# Initialize the Telegram bot with your token\n",
    "\n",
    "bot = telebot.TeleBot(os.getenv(\"TOKEN\"), parse_mode=None)"
   ]
  },
  {
   "cell_type": "markdown",
   "metadata": {},
   "source": [
    "## Simple LLM Telegram Bot"
   ]
  },
  {
   "cell_type": "code",
   "execution_count": 4,
   "metadata": {},
   "outputs": [],
   "source": [
    "from openai import OpenAI"
   ]
  },
  {
   "cell_type": "code",
   "execution_count": null,
   "metadata": {},
   "outputs": [],
   "source": [
    "def chat_with_llm(user_input):\n",
    "    \"\"\"\n",
    "    Send user input to OpenAI's GPT-3.5-turbo model and get the response.\n",
    "    \"\"\"\n",
    "    client = OpenAI(\n",
    "    # This is the default and can be omitted\n",
    "    api_key=os.environ.get(\"OPENAI_API_KEY\"),\n",
    ")\n",
    "\n",
    "    chat_completion = client.chat.completions.create(\n",
    "        messages=[\n",
    "        {\n",
    "            \"role\": \"user\",\n",
    "            \"content\": f\"{user_input}\",\n",
    "        }\n",
    "    ],\n",
    "        model=\"gpt-3.5-turbo\",\n",
    ")\n",
    "    return chat_completion.choices[0].message.content\n",
    "\n",
    "@bot.message_handler(commands=['start'])\n",
    "def send_welcome(message):\n",
    "    \"\"\"\n",
    "    Handle the /start command and send a welcome message.\n",
    "    \"\"\"\n",
    "    bot.reply_to(message, \"Hello! I am an AI assistant powered by GPT. Ask me anything!\")\n",
    "\n",
    "@bot.message_handler(func=lambda message: True)\n",
    "def handle_message(message):\n",
    "    \"\"\"\n",
    "    Handle all incoming messages and respond with the LLM's output.\n",
    "    \"\"\"\n",
    "    user_message = message.text\n",
    "    # Get LLM response\n",
    "    bot_response = chat_with_llm(user_message)\n",
    "    # Send the response back to the user\n",
    "    bot.reply_to(message, bot_response)\n",
    "    \n",
    "bot.infinity_polling()\n",
    "\n",
    "\n"
   ]
  },
  {
   "cell_type": "code",
   "execution_count": null,
   "metadata": {},
   "outputs": [],
   "source": [
    "# # Start the bot\n",
    "# if __name__ == '__main__':\n",
    "#     print(\"Bot is running...\")\n",
    "#     bot.infinity_polling()"
   ]
  }
 ],
 "metadata": {
  "kernelspec": {
   "display_name": "telegrambot",
   "language": "python",
   "name": "python3"
  },
  "language_info": {
   "codemirror_mode": {
    "name": "ipython",
    "version": 3
   },
   "file_extension": ".py",
   "mimetype": "text/x-python",
   "name": "python",
   "nbconvert_exporter": "python",
   "pygments_lexer": "ipython3",
   "version": "3.13.0"
  }
 },
 "nbformat": 4,
 "nbformat_minor": 2
}
