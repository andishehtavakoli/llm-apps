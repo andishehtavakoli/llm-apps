{
 "cells": [
  {
   "cell_type": "code",
   "execution_count": 4,
   "metadata": {},
   "outputs": [],
   "source": [
    "# pip install --upgrade langchain openai qdrant-client pandas nltk tomotopy pyvis\n",
    "# pip install langchain-community\n",
    "# pip install langchain-qdrant\n",
    "# pip install tiktoken\n",
    "# pip install langchain-openai\n"
   ]
  },
  {
   "cell_type": "markdown",
   "metadata": {},
   "source": [
    "## Step 1: Scrape book data"
   ]
  },
  {
   "cell_type": "code",
   "execution_count": 5,
   "metadata": {},
   "outputs": [
    {
     "name": "stderr",
     "output_type": "stream",
     "text": [
      "USER_AGENT environment variable not set, consider setting it to identify your requests.\n"
     ]
    }
   ],
   "source": [
    "from langchain_community.document_loaders import WebBaseLoader\n"
   ]
  },
  {
   "cell_type": "code",
   "execution_count": 42,
   "metadata": {},
   "outputs": [],
   "source": [
    "loader = WebBaseLoader(\"https://www.espn.com/mlb/insider/story/_/id/40734383/stock-watch-post-trade-deadline-guide-all-30-mlb-teams\")\n",
    "documents = loader.load()"
   ]
  },
  {
   "cell_type": "code",
   "execution_count": 43,
   "metadata": {},
   "outputs": [
    {
     "data": {
      "text/plain": [
       "[Document(metadata={'source': 'https://www.espn.com/mlb/insider/story/_/id/40734383/stock-watch-post-trade-deadline-guide-all-30-mlb-teams', 'title': 'Stock Watch: Post-trade deadline guide for all 30 MLB teams - ESPN', 'description': \"How each club's playoff hopes have risen -- or fallen -- and what comes next.\", 'language': 'en'}, page_content=\"\\n\\n\\n\\n\\n\\n\\n\\n\\nStock Watch: Post-trade deadline guide for all 30 MLB teams - ESPN\\n\\n\\n\\n\\n\\n\\n\\n\\n\\n\\n\\n\\n\\n\\n\\n\\n\\n\\n\\n\\n\\n\\n\\n\\n\\n\\n\\n\\n\\n\\n\\n\\n\\n\\n\\n\\n\\n\\n\\n\\n\\n\\n\\n\\n\\n\\n\\n\\n\\n\\n\\n\\n\\n\\n\\n\\n\\n\\n\\n\\n\\n\\n\\n\\n\\n\\n\\n\\n\\n\\n\\n\\n\\n\\n\\n\\n\\n\\n\\n\\n\\n\\n\\n\\n\\n        Skip to main content\\n    \\n\\n        Skip to navigation\\n    \\n\\n\\n\\n\\n\\n\\n\\n\\n\\n\\n\\n\\n\\n\\n\\n\\n\\n\\n\\n\\n\\n\\n\\n\\n\\n\\n\\n\\n\\n\\n\\n\\n\\n<\\n\\n>\\n\\n\\n\\n\\n\\n\\n\\n\\n\\nMenuESPN\\n\\n\\n\\n\\n\\nscores\\n\\n\\n\\nNFLNBAMLBOlympicsSoccerWNBA…BoxingCFLNCAACricketF1GolfHorseLLWSMMANASCARNBA G LeagueNBA Summer LeagueNCAAFNCAAMNCAAWNHLNWSLPLLProfessional WrestlingRacingRN BBRN FBRugbySports BettingTennisX GamesUFLMore ESPNFantasyWatchESPN BETESPN+\\n\\n\\n\\nMLBHomeScoresScheduleStandingsStatsTeamsOddsPlayersDepth ChartsFantasy BaseballTransactionsInjuriesTrade Deadline WrapupOddsFuturesHome Run DerbyAll-Star GameDraftTop 100 prospectsMLB Rank Top 100Top 100 Players All-TimeAll-Time StatsTickets\\n\\n\\n\\n\\n\\n\\n\\n\\n\\n\\n\\n\\nBiggest concern, what's left to play for and more: Post-trade deadline guide for all 30 MLB teamsKansas City Royals10hBradford DoolittleNCAA punishes Harbaugh for 'unethical conduct'Michigan Wolverines5hHall reels in leaders down stretch, wins 400 gold50mTexas loses RB Baxter for season with knee injuryTexas Longhorns2hDave WilsonLyles into 200m final after finishing 2nd in semis2hTeam USA wary of Jokic, Serbian 'sleep' tacticsDenver Nuggets4hBrian WindhorstMorris 1st U.S. men's weightlifter to medal since '8425mButker will 'stand behind what it is I'm saying'Kansas City Chiefs2hAdam TeicherReports: NASCAR's Bristol to host Reds-BravesAtlanta Braves2hQunicy Hall grabs 400m gold, Team USA women's basketball up again and more from Wednesday in Paris1hESPNCan Jalen Hurts and Nick Sirianni move on from a tense 2023? A Super Bowl might depend on itPhiladelphia Eagles11hTim McManus and Jeremy FowlerOn pace for how many losses?! The White Sox's pursuit of the worst record in MLB historyChicago White Sox10hBradford Doolittle, +2 MoreFantasy football buzz: How Josh Downs' injury changes Colts offense40mESPN FantasyBig Ten preview: Can anyone stop the Buckeyes?Washington Huskies8hFive big questions for the Warriors after Thompson's exit, new signingsGolden State Warriors5hKendra AndrewsMessi's house vandalized; Milei calls for safety12hAdriana GarciaHayes: U.S. defender Girma 'best I've ever seen'1dSam BordenSource: Utd won't raze OT amid new ground talks10hRob DawsonPulisic scores as Milan beat Barcelona in shootout19hBrazil to face USWNT for gold in Marta farewell23hAssociated PressSpain, Brazil clash after Olympic semifinal9hAdriana GarciaRodri, Alvaro Morata banned for Gibraltar chants8hAdriana GarciaSource: City, Atlético agree €75m+ Álvarez deal2dRob DawsonLatest updates from NFL training camp: Levis, Ridley finally connecting after early struggles in camp.Carolina Panthers3hESPNGold rush: Hocker stuns 1,500; Thomas tops 2001dSwiss bury U.S. women's volleyball hopes in sand23hElor, 20, makes U.S. history with wrestling gold23hFrance ousts Canada to reach basketball semisSan Antonio Spurs1dBiles finishes Games with silver in floor exercise2dLyles on to 200m semis in quest for sprint triple2dColey HarveyFrance win extra-time thriller, play Spain for gold2d'The opportunities have been crazy': Olympics have fully entered their influencer era8hEmily KaplanU.S. triple jumper Salif Mane finds solace in familiar voice before Olympic debut7hColey HarveyOhio State favored as new teams join Big TenMichigan Wolverines8hESPNPFL Super Fights first look: Can Ngannou, Cyborg dethrone champs in their debuts?3h'Dana White's Contender Series': Season 8 results, how to watch and more2hESPN.comBoxing pound-for-pound rankings: Crawford wins, doesn't impress; where does he land?9hHow Ferrari, McLaren and Mercedes have reeled in Red Bull7hLaurence EdmondsonLIVE Transfer Talk: PSG open talks with Man United over Sancho deal1mESPNPremier League kit ranking: Who has 2024-25's best jerseys?12hChris WrightFantasy baseball: Get rid of your Royals and Giants3hTristan H. Cockcroft2024 Little League World Series: Softball and baseball schedules, results and more5hESPN\\n\\n\\n\\nEXCLUSIVE CONTENT\\nGet ESPN+\\n\\nStock Watch: Post-trade deadline guide for all 30 MLB teamsAcquiring Randy Arozarena has helped Seattle's offense, but do the M's have enough? Here's how each MLB club's playoff hopes have risen or fallen.\\xa0Stephen Brashear/Getty ImagesBradford Doolittle, ESPN Staff WriterAug 7, 2024, 07:00 AM ETCloseSports reporter, Kansas City Star, 2002-09\\nWriter, Baseball, Baseball Prospectus\\nCo-author, Pro Basketball Prospectus\\nMember, Baseball Writers Association of America \\nMember, Professional Basketball Writers AssociationFollow on XEmailOpen Extended ReactionsSo much happens in baseball in July -- some of it obvious, some more under the hood.You know the obvious stuff. The All-Star Weekend, the break in the regular season that goes with it and the Midsummer Classic itself. There's the Hall of Fame induction ceremony. And then there is the trade deadline and the flurry of moves teams make leading up to it.From a projection standpoint, though, simply passing the midpoint of the schedule is significant. What you know about a team now is based much less on preseason forecasts and more on what that team has shown us to date.The view of the season by the end of July is clarified. The focus shifts fully to the playoff races even as the competitive landscape has evolved so much since the last time we convened to take stock of things.The focus on this post-trade deadline Stock Watch is homed in on the stretch run that every team has positioned itself for. This looks different for contenders than for those looking to the future. For the contenders who added at the deadline, we look at the biggest area of concern remaining after their moves. For those on the fringes, it's about what hope they have for a postseason appearance. For the noncontenders, it's all about what is left to accomplish on the field in 2024 -- and how those aims might be achieved.Let's take a look at all 30 teams.Jump to a tier:Top-tier contenders | Second-tier contenders | Teams just hanging on\\nTeams looking ahead | The Chicago White Sox\\n\\n\\n\\nESPN +\\n\\n\\nContinue reading this article and more from top writers, for only $10.99/mo.\\n\\nContinue Reading\\n\\n\\n\\n                    Already an ESPN+ subscriber? Log in here.\\n                \\n\\n\\n\\n\\n\\nTerms of UsePrivacy PolicyYour US State Privacy RightsChildren's Online Privacy PolicyInterest-Based AdsAbout Nielsen MeasurementDo Not Sell or Share My Personal InformationContact UsDisney Ad Sales SiteWork for ESPNCorrectionsESPN BET is owned and operated by PENN Entertainment, Inc. and its subsidiaries ('PENN'). ESPN BET is available in states where PENN is licensed to offer sports wagering. Must be 21+ to wager. If you or someone you know has a gambling problem and wants help, call 1-800-GAMBLER.Copyright: © 2024 ESPN Enterprises, Inc. All rights reserved.\\n\\n\\n\\n\\n\\n\\n\\n\\n\\n\\n\\n\\n\\n\\n\\n\\n\")]"
      ]
     },
     "execution_count": 43,
     "metadata": {},
     "output_type": "execute_result"
    }
   ],
   "source": [
    "documents"
   ]
  },
  {
   "cell_type": "code",
   "execution_count": 44,
   "metadata": {},
   "outputs": [
    {
     "name": "stdout",
     "output_type": "stream",
     "text": [
      "\u001b[0;31mType:\u001b[0m        list\n",
      "\u001b[0;31mString form:\u001b[0m [Document(metadata={'source': 'https://www.espn.com/mlb/insider/story/_/id/40734383/stock-watch-post-trade-deadline-guide-all-30-mlb-teams', 'title': 'Stock Watch: Post-trade deadline guide for all 30 MLB teams - ESPN', 'description': \"How each club's playoff hopes have risen -- or fallen -- and what comes next.\", 'language': 'en'}, page_content=\"\\n\\n\\n\\n\\n\\n\\n\\n\\nStock Watch: Post-trade deadline guide for all 30 MLB teams - ESPN\\n\\n\\n\\n\\n\\n\\n\\n\\n\\n\\n\\n\\n\\n\\n\\n\\n\\n\\n\\n\\n\\n\\n\\n\\n\\n\\n\\n\\n\\n\\n\\n\\n\\n\\n\\n\\n\\n\\n\\n\\n\\n\\n\\n\\n\\n\\n\\n\\n\\n\\n\\n\\n\\n\\n\\n\\n\\n\\n\\n\\n\\n\\n\\n\\n\\n\\n\\n\\n\\n\\n\\n\\n\\n\\n\\n\\n\\n\\n\\n\\n\\n\\n\\n\\n\\n        Skip to main content\\n    \\n\\n        Skip to navigation\\n    \\n\\n\\n\\n\\n\\n\\n\\n\\n\\n\\n\\n\\n\\n\\n\\n\\n\\n\\n\\n\\n\\n\\n\\n\\n\\n\\n\\n\\n\\n\\n\\n\\n\\n<\\n\\n>\\n\\n\\n\\n\\n\\n\\n\\n\\n\\nMenuESPN\\n\\n\\n\\n\\n\\nscores\\n\\n\\n\\nNFLNBAMLBOlympicsSoccerWNBA…BoxingCFLNCAACricketF1GolfHorseLLWSMMANASCARNBA G LeagueNBA Summer LeagueNCAAFNCAAMNCAAWNHLNWSLPLLProfessional WrestlingRacingRN BBRN FBRugbySports BettingTennisX GamesUFLMore ESPNFantasyWatchESPN BETESPN+\\n\\n\\n\\nMLBHomeScoresScheduleStandingsStatsTeamsOddsPlayersDepth ChartsFantasy BaseballTransactionsInjuriesTrade Deadline WrapupOddsFuturesHome Run DerbyAll-Star GameDraftTop 100 prospectsMLB Rank Top 100Top 100 Players All-TimeAll-Time StatsTickets\\n\\n\\n\\n\\n\\n\\n\\n\\n\\n\\n\\n\\nBiggest concern, what's left to play for and more: Post-trade deadline guide for all 30 MLB teamsKansas City Royals10hBradford DoolittleNCAA punishes Harbaugh for 'unethical conduct'Michigan Wolverines5hHall reels in leaders down stretch, wins 400 gold50mTexas loses RB Baxter for season with knee injuryTexas Longhorns2hDave WilsonLyles into 200m final after finishing 2nd in semis2hTeam USA wary of Jokic, Serbian 'sleep' tacticsDenver Nuggets4hBrian WindhorstMorris 1st U.S. men's weightlifter to medal since '8425mButker will 'stand behind what it is I'm saying'Kansas City Chiefs2hAdam TeicherReports: NASCAR's Bristol to host Reds-BravesAtlanta Braves2hQunicy Hall grabs 400m gold, Team USA women's basketball up again and more from Wednesday in Paris1hESPNCan Jalen Hurts and Nick Sirianni move on from a tense 2023? A Super Bowl might depend on itPhiladelphia Eagles11hTim McManus and Jeremy FowlerOn pace for how many losses?! The White Sox's pursuit of the worst record in MLB historyChicago White Sox10hBradford Doolittle, +2 MoreFantasy football buzz: How Josh Downs' injury changes Colts offense40mESPN FantasyBig Ten preview: Can anyone stop the Buckeyes?Washington Huskies8hFive big questions for the Warriors after Thompson's exit, new signingsGolden State Warriors5hKendra AndrewsMessi's house vandalized; Milei calls for safety12hAdriana GarciaHayes: U.S. defender Girma 'best I've ever seen'1dSam BordenSource: Utd won't raze OT amid new ground talks10hRob DawsonPulisic scores as Milan beat Barcelona in shootout19hBrazil to face USWNT for gold in Marta farewell23hAssociated PressSpain, Brazil clash after Olympic semifinal9hAdriana GarciaRodri, Alvaro Morata banned for Gibraltar chants8hAdriana GarciaSource: City, Atlético agree €75m+ Álvarez deal2dRob DawsonLatest updates from NFL training camp: Levis, Ridley finally connecting after early struggles in camp.Carolina Panthers3hESPNGold rush: Hocker stuns 1,500; Thomas tops 2001dSwiss bury U.S. women's volleyball hopes in sand23hElor, 20, makes U.S. history with wrestling gold23hFrance ousts Canada to reach basketball semisSan Antonio Spurs1dBiles finishes Games with silver in floor exercise2dLyles on to 200m semis in quest for sprint triple2dColey HarveyFrance win extra-time thriller, play Spain for gold2d'The opportunities have been crazy': Olympics have fully entered their influencer era8hEmily KaplanU.S. triple jumper Salif Mane finds solace in familiar voice before Olympic debut7hColey HarveyOhio State favored as new teams join Big TenMichigan Wolverines8hESPNPFL Super Fights first look: Can Ngannou, Cyborg dethrone champs in their debuts?3h'Dana White's Contender Series': Season 8 results, how to watch and more2hESPN.comBoxing pound-for-pound rankings: Crawford wins, doesn't impress; where does he land?9hHow Ferrari, McLaren and Mercedes have reeled in Red Bull7hLaurence EdmondsonLIVE Transfer Talk: PSG open talks with Man United over Sancho deal1mESPNPremier League kit ranking: Who has 2024-25's best jerseys?12hChris WrightFantasy baseball: Get rid of your Royals and Giants3hTristan H. Cockcroft2024 Little League World Series: Softball and baseball schedules, results and more5hESPN\\n\\n\\n\\nEXCLUSIVE CONTENT\\nGet ESPN+\\n\\nStock Watch: Post-trade deadline guide for all 30 MLB teamsAcquiring Randy Arozarena has helped Seattle's offense, but do the M's have enough? Here's how each MLB club's playoff hopes have risen or fallen.\\xa0Stephen Brashear/Getty ImagesBradford Doolittle, ESPN Staff WriterAug 7, 2024, 07:00 AM ETCloseSports reporter, Kansas City Star, 2002-09\\nWriter, Baseball, Baseball Prospectus\\nCo-author, Pro Basketball Prospectus\\nMember, Baseball Writers Association of America \\nMember, Professional Basketball Writers AssociationFollow on XEmailOpen Extended ReactionsSo much happens in baseball in July -- some of it obvious, some more under the hood.You know the obvious stuff. The All-Star Weekend, the break in the regular season that goes with it and the Midsummer Classic itself. There's the Hall of Fame induction ceremony. And then there is the trade deadline and the flurry of moves teams make leading up to it.From a projection standpoint, though, simply passing the midpoint of the schedule is significant. What you know about a team now is based much less on preseason forecasts and more on what that team has shown us to date.The view of the season by the end of July is clarified. The focus shifts fully to the playoff races even as the competitive landscape has evolved so much since the last time we convened to take stock of things.The focus on this post-trade deadline Stock Watch is homed in on the stretch run that every team has positioned itself for. This looks different for contenders than for those looking to the future. For the contenders who added at the deadline, we look at the biggest area of concern remaining after their moves. For those on the fringes, it's about what hope they have for a postseason appearance. For the noncontenders, it's all about what is left to accomplish on the field in 2024 -- and how those aims might be achieved.Let's take a look at all 30 teams.Jump to a tier:Top-tier contenders | Second-tier contenders | Teams just hanging on\\nTeams looking ahead | The Chicago White Sox\\n\\n\\n\\nESPN +\\n\\n\\nContinue reading this article and more from top writers, for only $10.99/mo.\\n\\nContinue Reading\\n\\n\\n\\n                    Already an ESPN+ subscriber? Log in here.\\n                \\n\\n\\n\\n\\n\\nTerms of UsePrivacy PolicyYour US State Privacy RightsChildren's Online Privacy PolicyInterest-Based AdsAbout Nielsen MeasurementDo Not Sell or Share My Personal InformationContact UsDisney Ad Sales SiteWork for ESPNCorrectionsESPN BET is owned and operated by PENN Entertainment, Inc. and its subsidiaries ('PENN'). ESPN BET is available in states where PENN is licensed to offer sports wagering. Must be 21+ to wager. If you or someone you know has a gambling problem and wants help, call 1-800-GAMBLER.Copyright: © 2024 ESPN Enterprises, Inc. All rights reserved.\\n\\n\\n\\n\\n\\n\\n\\n\\n\\n\\n\\n\\n\\n\\n\\n\\n\")]\n",
      "\u001b[0;31mLength:\u001b[0m      1\n",
      "\u001b[0;31mDocstring:\u001b[0m  \n",
      "Built-in mutable sequence.\n",
      "\n",
      "If no argument is given, the constructor creates a new empty list.\n",
      "The argument must be an iterable if specified."
     ]
    }
   ],
   "source": [
    "?? documents"
   ]
  },
  {
   "cell_type": "markdown",
   "metadata": {},
   "source": [
    "## Step 2: Setting up the vector database"
   ]
  },
  {
   "cell_type": "code",
   "execution_count": 45,
   "metadata": {},
   "outputs": [],
   "source": [
    "from langchain_community.embeddings import OpenAIEmbeddings\n",
    "from langchain_qdrant import Qdrant\n",
    "from dotenv import load_dotenv\n",
    "import tiktoken\n",
    "import os\n"
   ]
  },
  {
   "cell_type": "code",
   "execution_count": 46,
   "metadata": {},
   "outputs": [],
   "source": [
    "import  nest_asyncio\n",
    "nest_asyncio.apply()"
   ]
  },
  {
   "cell_type": "markdown",
   "metadata": {},
   "source": [
    "### Setup OpenAI key"
   ]
  },
  {
   "cell_type": "code",
   "execution_count": 47,
   "metadata": {},
   "outputs": [],
   "source": [
    "env_path = '/Users/andishehtavakoli/Documents/github-project/llm-apps/RAG-search-books/.env'\n",
    "\n",
    "\n",
    "# Load environment variables from the specified .env file\n",
    "load_dotenv(dotenv_path=env_path)\n",
    "# Get the API key from the environment variable\n",
    "api_key = os.getenv('OPENAI_API_KEY')"
   ]
  },
  {
   "cell_type": "code",
   "execution_count": 48,
   "metadata": {},
   "outputs": [],
   "source": [
    "embeddings = OpenAIEmbeddings(model=\"text-embedding-3-large\")\n",
    "def create_db(documents):\n",
    "    return Qdrant.from_documents(\n",
    "        documents=documents,\n",
    "        embedding=embeddings,\n",
    "        collection_name=\"my_documents\",\n",
    "        location=\":memory:\",\n",
    "        force_recreate=False,\n",
    "    )\n",
    "db = create_db(documents)"
   ]
  },
  {
   "cell_type": "markdown",
   "metadata": {},
   "source": [
    "## Step 3: Information retrieval using relevant context"
   ]
  },
  {
   "cell_type": "code",
   "execution_count": 54,
   "metadata": {},
   "outputs": [],
   "source": [
    "from langchain.chains import RetrievalQA\n",
    "from langchain_openai import ChatOpenAI\n",
    "from pprint import pprint"
   ]
  },
  {
   "cell_type": "code",
   "execution_count": 50,
   "metadata": {},
   "outputs": [],
   "source": [
    "llm = ChatOpenAI()"
   ]
  },
  {
   "cell_type": "code",
   "execution_count": 52,
   "metadata": {},
   "outputs": [],
   "source": [
    "retriever = db.as_retriever(\n",
    "        search_type=\"mmr\", search_kwargs={\"k\": 2, \"lambda_mult\": 0.25}\n",
    "    )\n",
    "# Create a chain to answer questions\n",
    "qa = RetrievalQA.from_chain_type(\n",
    "    llm=llm,\n",
    "    chain_type=\"stuff\",\n",
    "    retriever=retriever,\n",
    "    return_source_documents=True\n",
    ")\n",
    "query = \"what happens in baseball in July?\"\n",
    "result = qa({\"query\": query})"
   ]
  },
  {
   "cell_type": "code",
   "execution_count": 55,
   "metadata": {},
   "outputs": [
    {
     "name": "stdout",
     "output_type": "stream",
     "text": [
      "{'query': 'what happens in baseball in July?',\n",
      " 'result': 'In July, significant events in baseball include the All-Star '\n",
      "           'Weekend, the Hall of Fame induction ceremony, and the trade '\n",
      "           'deadline with teams making moves leading up to it. Passing the '\n",
      "           'midpoint of the schedule is also significant as it clarifies the '\n",
      "           'season view based on what teams have shown so far rather than '\n",
      "           'preseason forecasts.',\n",
      " 'source_documents': [Document(metadata={'source': 'https://www.espn.com/mlb/insider/story/_/id/40734383/stock-watch-post-trade-deadline-guide-all-30-mlb-teams', 'title': 'Stock Watch: Post-trade deadline guide for all 30 MLB teams - ESPN', 'description': \"How each club's playoff hopes have risen -- or fallen -- and what comes next.\", 'language': 'en', '_id': 'e129deef810d4995a4b32dad6e5a99c1', '_collection_name': 'my_documents'}, page_content=\"\\n\\n\\n\\n\\n\\n\\n\\n\\nStock Watch: Post-trade deadline guide for all 30 MLB teams - ESPN\\n\\n\\n\\n\\n\\n\\n\\n\\n\\n\\n\\n\\n\\n\\n\\n\\n\\n\\n\\n\\n\\n\\n\\n\\n\\n\\n\\n\\n\\n\\n\\n\\n\\n\\n\\n\\n\\n\\n\\n\\n\\n\\n\\n\\n\\n\\n\\n\\n\\n\\n\\n\\n\\n\\n\\n\\n\\n\\n\\n\\n\\n\\n\\n\\n\\n\\n\\n\\n\\n\\n\\n\\n\\n\\n\\n\\n\\n\\n\\n\\n\\n\\n\\n\\n\\n        Skip to main content\\n    \\n\\n        Skip to navigation\\n    \\n\\n\\n\\n\\n\\n\\n\\n\\n\\n\\n\\n\\n\\n\\n\\n\\n\\n\\n\\n\\n\\n\\n\\n\\n\\n\\n\\n\\n\\n\\n\\n\\n\\n<\\n\\n>\\n\\n\\n\\n\\n\\n\\n\\n\\n\\nMenuESPN\\n\\n\\n\\n\\n\\nscores\\n\\n\\n\\nNFLNBAMLBOlympicsSoccerWNBA…BoxingCFLNCAACricketF1GolfHorseLLWSMMANASCARNBA G LeagueNBA Summer LeagueNCAAFNCAAMNCAAWNHLNWSLPLLProfessional WrestlingRacingRN BBRN FBRugbySports BettingTennisX GamesUFLMore ESPNFantasyWatchESPN BETESPN+\\n\\n\\n\\nMLBHomeScoresScheduleStandingsStatsTeamsOddsPlayersDepth ChartsFantasy BaseballTransactionsInjuriesTrade Deadline WrapupOddsFuturesHome Run DerbyAll-Star GameDraftTop 100 prospectsMLB Rank Top 100Top 100 Players All-TimeAll-Time StatsTickets\\n\\n\\n\\n\\n\\n\\n\\n\\n\\n\\n\\n\\nBiggest concern, what's left to play for and more: Post-trade deadline guide for all 30 MLB teamsKansas City Royals10hBradford DoolittleNCAA punishes Harbaugh for 'unethical conduct'Michigan Wolverines5hHall reels in leaders down stretch, wins 400 gold50mTexas loses RB Baxter for season with knee injuryTexas Longhorns2hDave WilsonLyles into 200m final after finishing 2nd in semis2hTeam USA wary of Jokic, Serbian 'sleep' tacticsDenver Nuggets4hBrian WindhorstMorris 1st U.S. men's weightlifter to medal since '8425mButker will 'stand behind what it is I'm saying'Kansas City Chiefs2hAdam TeicherReports: NASCAR's Bristol to host Reds-BravesAtlanta Braves2hQunicy Hall grabs 400m gold, Team USA women's basketball up again and more from Wednesday in Paris1hESPNCan Jalen Hurts and Nick Sirianni move on from a tense 2023? A Super Bowl might depend on itPhiladelphia Eagles11hTim McManus and Jeremy FowlerOn pace for how many losses?! The White Sox's pursuit of the worst record in MLB historyChicago White Sox10hBradford Doolittle, +2 MoreFantasy football buzz: How Josh Downs' injury changes Colts offense40mESPN FantasyBig Ten preview: Can anyone stop the Buckeyes?Washington Huskies8hFive big questions for the Warriors after Thompson's exit, new signingsGolden State Warriors5hKendra AndrewsMessi's house vandalized; Milei calls for safety12hAdriana GarciaHayes: U.S. defender Girma 'best I've ever seen'1dSam BordenSource: Utd won't raze OT amid new ground talks10hRob DawsonPulisic scores as Milan beat Barcelona in shootout19hBrazil to face USWNT for gold in Marta farewell23hAssociated PressSpain, Brazil clash after Olympic semifinal9hAdriana GarciaRodri, Alvaro Morata banned for Gibraltar chants8hAdriana GarciaSource: City, Atlético agree €75m+ Álvarez deal2dRob DawsonLatest updates from NFL training camp: Levis, Ridley finally connecting after early struggles in camp.Carolina Panthers3hESPNGold rush: Hocker stuns 1,500; Thomas tops 2001dSwiss bury U.S. women's volleyball hopes in sand23hElor, 20, makes U.S. history with wrestling gold23hFrance ousts Canada to reach basketball semisSan Antonio Spurs1dBiles finishes Games with silver in floor exercise2dLyles on to 200m semis in quest for sprint triple2dColey HarveyFrance win extra-time thriller, play Spain for gold2d'The opportunities have been crazy': Olympics have fully entered their influencer era8hEmily KaplanU.S. triple jumper Salif Mane finds solace in familiar voice before Olympic debut7hColey HarveyOhio State favored as new teams join Big TenMichigan Wolverines8hESPNPFL Super Fights first look: Can Ngannou, Cyborg dethrone champs in their debuts?3h'Dana White's Contender Series': Season 8 results, how to watch and more2hESPN.comBoxing pound-for-pound rankings: Crawford wins, doesn't impress; where does he land?9hHow Ferrari, McLaren and Mercedes have reeled in Red Bull7hLaurence EdmondsonLIVE Transfer Talk: PSG open talks with Man United over Sancho deal1mESPNPremier League kit ranking: Who has 2024-25's best jerseys?12hChris WrightFantasy baseball: Get rid of your Royals and Giants3hTristan H. Cockcroft2024 Little League World Series: Softball and baseball schedules, results and more5hESPN\\n\\n\\n\\nEXCLUSIVE CONTENT\\nGet ESPN+\\n\\nStock Watch: Post-trade deadline guide for all 30 MLB teamsAcquiring Randy Arozarena has helped Seattle's offense, but do the M's have enough? Here's how each MLB club's playoff hopes have risen or fallen.\\xa0Stephen Brashear/Getty ImagesBradford Doolittle, ESPN Staff WriterAug 7, 2024, 07:00 AM ETCloseSports reporter, Kansas City Star, 2002-09\\nWriter, Baseball, Baseball Prospectus\\nCo-author, Pro Basketball Prospectus\\nMember, Baseball Writers Association of America \\nMember, Professional Basketball Writers AssociationFollow on XEmailOpen Extended ReactionsSo much happens in baseball in July -- some of it obvious, some more under the hood.You know the obvious stuff. The All-Star Weekend, the break in the regular season that goes with it and the Midsummer Classic itself. There's the Hall of Fame induction ceremony. And then there is the trade deadline and the flurry of moves teams make leading up to it.From a projection standpoint, though, simply passing the midpoint of the schedule is significant. What you know about a team now is based much less on preseason forecasts and more on what that team has shown us to date.The view of the season by the end of July is clarified. The focus shifts fully to the playoff races even as the competitive landscape has evolved so much since the last time we convened to take stock of things.The focus on this post-trade deadline Stock Watch is homed in on the stretch run that every team has positioned itself for. This looks different for contenders than for those looking to the future. For the contenders who added at the deadline, we look at the biggest area of concern remaining after their moves. For those on the fringes, it's about what hope they have for a postseason appearance. For the noncontenders, it's all about what is left to accomplish on the field in 2024 -- and how those aims might be achieved.Let's take a look at all 30 teams.Jump to a tier:Top-tier contenders | Second-tier contenders | Teams just hanging on\\nTeams looking ahead | The Chicago White Sox\\n\\n\\n\\nESPN +\\n\\n\\nContinue reading this article and more from top writers, for only $10.99/mo.\\n\\nContinue Reading\\n\\n\\n\\n                    Already an ESPN+ subscriber? Log in here.\\n                \\n\\n\\n\\n\\n\\nTerms of UsePrivacy PolicyYour US State Privacy RightsChildren's Online Privacy PolicyInterest-Based AdsAbout Nielsen MeasurementDo Not Sell or Share My Personal InformationContact UsDisney Ad Sales SiteWork for ESPNCorrectionsESPN BET is owned and operated by PENN Entertainment, Inc. and its subsidiaries ('PENN'). ESPN BET is available in states where PENN is licensed to offer sports wagering. Must be 21+ to wager. If you or someone you know has a gambling problem and wants help, call 1-800-GAMBLER.Copyright: © 2024 ESPN Enterprises, Inc. All rights reserved.\\n\\n\\n\\n\\n\\n\\n\\n\\n\\n\\n\\n\\n\\n\\n\\n\\n\")]}\n"
     ]
    }
   ],
   "source": [
    "pprint(result)"
   ]
  },
  {
   "cell_type": "code",
   "execution_count": null,
   "metadata": {},
   "outputs": [],
   "source": []
  }
 ],
 "metadata": {
  "kernelspec": {
   "display_name": "langchain",
   "language": "python",
   "name": "python3"
  },
  "language_info": {
   "codemirror_mode": {
    "name": "ipython",
    "version": 3
   },
   "file_extension": ".py",
   "mimetype": "text/x-python",
   "name": "python",
   "nbconvert_exporter": "python",
   "pygments_lexer": "ipython3",
   "version": "3.11.9"
  }
 },
 "nbformat": 4,
 "nbformat_minor": 2
}
