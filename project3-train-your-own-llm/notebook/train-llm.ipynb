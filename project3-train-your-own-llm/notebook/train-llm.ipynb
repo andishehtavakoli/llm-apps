{
 "cells": [
  {
   "cell_type": "markdown",
   "metadata": {},
   "source": [
    "## Step 1. Prepare the training data"
   ]
  },
  {
   "cell_type": "markdown",
   "metadata": {},
   "source": [
    "### Load dataset"
   ]
  },
  {
   "cell_type": "code",
   "execution_count": 3,
   "metadata": {},
   "outputs": [],
   "source": [
    "# !pip install datasets"
   ]
  },
  {
   "cell_type": "code",
   "execution_count": 18,
   "metadata": {},
   "outputs": [],
   "source": [
    "from datasets import load_dataset\n",
    "dataset = load_dataset(\"huggingartists/ed-sheeran\")\n",
    "from pprint import pprint"
   ]
  },
  {
   "cell_type": "code",
   "execution_count": 12,
   "metadata": {},
   "outputs": [],
   "source": [
    "import pandas as pd\n",
    "df = pd.DataFrame(data=dataset)\n",
    "df['text'] = df.train.apply(lambda row: row.get(\"text\"))\n"
   ]
  },
  {
   "cell_type": "code",
   "execution_count": 11,
   "metadata": {},
   "outputs": [
    {
     "data": {
      "text/html": [
       "<div>\n",
       "<style scoped>\n",
       "    .dataframe tbody tr th:only-of-type {\n",
       "        vertical-align: middle;\n",
       "    }\n",
       "\n",
       "    .dataframe tbody tr th {\n",
       "        vertical-align: top;\n",
       "    }\n",
       "\n",
       "    .dataframe thead th {\n",
       "        text-align: right;\n",
       "    }\n",
       "</style>\n",
       "<table border=\"1\" class=\"dataframe\">\n",
       "  <thead>\n",
       "    <tr style=\"text-align: right;\">\n",
       "      <th></th>\n",
       "      <th>train</th>\n",
       "      <th>text</th>\n",
       "    </tr>\n",
       "  </thead>\n",
       "  <tbody>\n",
       "    <tr>\n",
       "      <th>0</th>\n",
       "      <td>{'text': 'Shape of You Lyrics\n",
       "The club isnt th...</td>\n",
       "      <td>Shape of You Lyrics\\nThe club isnt the best pl...</td>\n",
       "    </tr>\n",
       "    <tr>\n",
       "      <th>1</th>\n",
       "      <td>{'text': 'Perfect Lyrics\n",
       "I found a love for me...</td>\n",
       "      <td>Perfect Lyrics\\nI found a love for me\\nOh darl...</td>\n",
       "    </tr>\n",
       "    <tr>\n",
       "      <th>2</th>\n",
       "      <td>{'text': 'Love Yourself Lyrics\n",
       "For all the tim...</td>\n",
       "      <td>Love Yourself Lyrics\\nFor all the times that y...</td>\n",
       "    </tr>\n",
       "    <tr>\n",
       "      <th>3</th>\n",
       "      <td>{'text': 'River Lyrics\n",
       "Ive been a liar, been a...</td>\n",
       "      <td>River Lyrics\\nIve been a liar, been a thief\\nB...</td>\n",
       "    </tr>\n",
       "    <tr>\n",
       "      <th>4</th>\n",
       "      <td>{'text': 'Castle on the Hill Lyrics\n",
       "When I was...</td>\n",
       "      <td>Castle on the Hill Lyrics\\nWhen I was six year...</td>\n",
       "    </tr>\n",
       "  </tbody>\n",
       "</table>\n",
       "</div>"
      ],
      "text/plain": [
       "                                               train  \\\n",
       "0  {'text': 'Shape of You Lyrics\n",
       "The club isnt th...   \n",
       "1  {'text': 'Perfect Lyrics\n",
       "I found a love for me...   \n",
       "2  {'text': 'Love Yourself Lyrics\n",
       "For all the tim...   \n",
       "3  {'text': 'River Lyrics\n",
       "Ive been a liar, been a...   \n",
       "4  {'text': 'Castle on the Hill Lyrics\n",
       "When I was...   \n",
       "\n",
       "                                                text  \n",
       "0  Shape of You Lyrics\\nThe club isnt the best pl...  \n",
       "1  Perfect Lyrics\\nI found a love for me\\nOh darl...  \n",
       "2  Love Yourself Lyrics\\nFor all the times that y...  \n",
       "3  River Lyrics\\nIve been a liar, been a thief\\nB...  \n",
       "4  Castle on the Hill Lyrics\\nWhen I was six year...  "
      ]
     },
     "execution_count": 11,
     "metadata": {},
     "output_type": "execute_result"
    }
   ],
   "source": [
    "df.head()"
   ]
  },
  {
   "cell_type": "code",
   "execution_count": 19,
   "metadata": {},
   "outputs": [
    {
     "name": "stdout",
     "output_type": "stream",
     "text": [
      "('Perfect Lyrics\\n'\n",
      " 'I found a love for me\\n'\n",
      " 'Oh darling, just dive right in and follow my lead\\n'\n",
      " 'Well, I found a girl, beautiful and sweet\\n'\n",
      " 'Oh, I never knew you were the someone waiting for me\\n'\n",
      " 'Cause we were just kids when we fell in love\\n'\n",
      " 'Not knowing what it was\\n'\n",
      " 'I will not give you up this time\\n'\n",
      " 'But darling, just kiss me slow, your heart is all I own\\n'\n",
      " 'And in your eyes, youre holding mine\\n'\n",
      " 'Baby, Im dancing in the dark with you between my arms\\n'\n",
      " 'Barefoot on the grass, listening to our favourite song\\n'\n",
      " 'When you said you looked a mess, I whispered underneath my breath\\n'\n",
      " 'But you heard it, darling, you look perfect tonight\\n'\n",
      " 'Well I found a woman, stronger than anyone I know\\n'\n",
      " 'She shares my dreams, I hope that someday Ill share her home\\n'\n",
      " 'I found a love, to carry more than just my secrets\\n'\n",
      " 'To carry love, to carry children of our own\\n'\n",
      " 'We are still kids, but were so in love\\n'\n",
      " 'Fighting against all odds\\n'\n",
      " 'I know well be alright this time\\n'\n",
      " 'Darling, just hold my hand\\n'\n",
      " 'Be my girl, Ill be your man\\n'\n",
      " 'I see my future in your eyes\\n'\n",
      " 'Baby, Im dancing in the dark, with you between my arms\\n'\n",
      " 'Barefoot on the grass, listening to our favorite song\\n'\n",
      " 'When I saw you in that dress, looking so beautiful\\n'\n",
      " 'I dont deserve this, darling, you look perfect tonight\\n'\n",
      " 'Baby, Im dancing in the dark, with you between my arms\\n'\n",
      " 'Barefoot on the grass, listening to our favorite song\\n'\n",
      " 'I have faith in what I see\\n'\n",
      " 'Now I know I have met an angel in person\\n'\n",
      " 'And she looks perfect\\n'\n",
      " 'I dont deserve this\\n'\n",
      " 'You look perfect tonight258Embed')\n"
     ]
    }
   ],
   "source": [
    "pprint(df['text'][1])"
   ]
  },
  {
   "cell_type": "code",
   "execution_count": 20,
   "metadata": {},
   "outputs": [],
   "source": [
    "lyrics_index = df['text'][1].index(\"Lyrics\")"
   ]
  },
  {
   "cell_type": "code",
   "execution_count": 30,
   "metadata": {},
   "outputs": [],
   "source": [
    "title = df['text'][1][:lyrics_index].strip()"
   ]
  },
  {
   "cell_type": "code",
   "execution_count": 31,
   "metadata": {},
   "outputs": [],
   "source": [
    "lyrics = df['text'][1][lyrics_index + len(\"Lyrics\"):].strip()"
   ]
  },
  {
   "cell_type": "code",
   "execution_count": 32,
   "metadata": {},
   "outputs": [],
   "source": [
    "dict_ = {'Title': title, 'Lyrics': lyrics}"
   ]
  },
  {
   "cell_type": "code",
   "execution_count": 33,
   "metadata": {},
   "outputs": [
    {
     "data": {
      "text/plain": [
       "{'Title': 'Perfect',\n",
       " 'Lyrics': 'I found a love for me\\nOh darling, just dive right in and follow my lead\\nWell, I found a girl, beautiful and sweet\\nOh, I never knew you were the someone waiting for me\\nCause we were just kids when we fell in love\\nNot knowing what it was\\nI will not give you up this time\\nBut darling, just kiss me slow, your heart is all I own\\nAnd in your eyes, youre holding mine\\nBaby, Im dancing in the dark with you between my arms\\nBarefoot on the grass, listening to our favourite song\\nWhen you said you looked a mess, I whispered underneath my breath\\nBut you heard it, darling, you look perfect tonight\\nWell I found a woman, stronger than anyone I know\\nShe shares my dreams, I hope that someday Ill share her home\\nI found a love, to carry more than just my secrets\\nTo carry love, to carry children of our own\\nWe are still kids, but were so in love\\nFighting against all odds\\nI know well be alright this time\\nDarling, just hold my hand\\nBe my girl, Ill be your man\\nI see my future in your eyes\\nBaby, Im dancing in the dark, with you between my arms\\nBarefoot on the grass, listening to our favorite song\\nWhen I saw you in that dress, looking so beautiful\\nI dont deserve this, darling, you look perfect tonight\\nBaby, Im dancing in the dark, with you between my arms\\nBarefoot on the grass, listening to our favorite song\\nI have faith in what I see\\nNow I know I have met an angel in person\\nAnd she looks perfect\\nI dont deserve this\\nYou look perfect tonight258Embed'}"
      ]
     },
     "execution_count": 33,
     "metadata": {},
     "output_type": "execute_result"
    }
   ],
   "source": [
    "dict_"
   ]
  },
  {
   "cell_type": "code",
   "execution_count": 38,
   "metadata": {},
   "outputs": [
    {
     "data": {
      "text/plain": [
       "0      Shape of You Lyrics\\nThe club isnt the best pl...\n",
       "1      Perfect Lyrics\\nI found a love for me\\nOh darl...\n",
       "2      Love Yourself Lyrics\\nFor all the times that y...\n",
       "3      River Lyrics\\nIve been a liar, been a thief\\nB...\n",
       "4      Castle on the Hill Lyrics\\nWhen I was six year...\n",
       "                             ...                        \n",
       "918                                                     \n",
       "919                                                     \n",
       "920                                                     \n",
       "921                                                     \n",
       "922                                                     \n",
       "Name: text, Length: 923, dtype: object"
      ]
     },
     "execution_count": 38,
     "metadata": {},
     "output_type": "execute_result"
    }
   ],
   "source": [
    "df['text'].str.strip()"
   ]
  },
  {
   "cell_type": "code",
   "execution_count": 48,
   "metadata": {},
   "outputs": [],
   "source": [
    "import pandas as pd\n",
    "df = pd.DataFrame(data=dataset)\n",
    "df['text'] = df.train.apply(lambda row: row.get(\"text\"))\n",
    "\n",
    "def get_title_lyrics(text):\n",
    "    lyrics_start = \"Lyrics\"\n",
    "    if lyrics_start in text:\n",
    "        lyrics_index = text.index(lyrics_start)\n",
    "        title = text[:lyrics_index].strip()\n",
    "        lyrics = text[lyrics_index + len(lyrics_start):].strip()\n",
    "        \n",
    "    else:\n",
    "        title = None\n",
    "        lyrics = None\n",
    "    return {'Title': title, 'Lyrics': lyrics}\n"
   ]
  },
  {
   "cell_type": "code",
   "execution_count": 49,
   "metadata": {},
   "outputs": [],
   "source": [
    "df[['Title', 'Lyrics']] = df['text'].apply(get_title_lyrics).apply(pd.Series)"
   ]
  },
  {
   "cell_type": "code",
   "execution_count": 52,
   "metadata": {},
   "outputs": [
    {
     "data": {
      "text/plain": [
       "train      0\n",
       "text       0\n",
       "Title     44\n",
       "Lyrics    44\n",
       "dtype: int64"
      ]
     },
     "execution_count": 52,
     "metadata": {},
     "output_type": "execute_result"
    }
   ],
   "source": [
    "df.isna().sum()"
   ]
  },
  {
   "cell_type": "code",
   "execution_count": 53,
   "metadata": {},
   "outputs": [],
   "source": [
    "df.dropna(inplace=True)"
   ]
  },
  {
   "cell_type": "code",
   "execution_count": 54,
   "metadata": {},
   "outputs": [
    {
     "data": {
      "text/plain": [
       "train     0\n",
       "text      0\n",
       "Title     0\n",
       "Lyrics    0\n",
       "dtype: int64"
      ]
     },
     "execution_count": 54,
     "metadata": {},
     "output_type": "execute_result"
    }
   ],
   "source": [
    "df.isna().sum()"
   ]
  },
  {
   "cell_type": "code",
   "execution_count": 55,
   "metadata": {},
   "outputs": [
    {
     "data": {
      "text/plain": [
       "(879, 4)"
      ]
     },
     "execution_count": 55,
     "metadata": {},
     "output_type": "execute_result"
    }
   ],
   "source": [
    "df.shape"
   ]
  },
  {
   "cell_type": "code",
   "execution_count": 82,
   "metadata": {},
   "outputs": [],
   "source": [
    "df.to_csv('ed_sheeran.csv')"
   ]
  },
  {
   "cell_type": "markdown",
   "metadata": {},
   "source": [
    "### Encoding the text and create train/test/validation set"
   ]
  },
  {
   "cell_type": "markdown",
   "metadata": {},
   "source": [
    "Since language model works with tokens, we will converts the raw lyrics into a sequence of integers, or token-ids. Because we are going to train a word-level transformer model, we will encode each token, which is represented by a unique token id (integer) using GPT2 tokenizer."
   ]
  },
  {
   "cell_type": "code",
   "execution_count": 56,
   "metadata": {},
   "outputs": [],
   "source": [
    "import os\n",
    "import tiktoken\n",
    "import numpy as np\n",
    "import pandas as pd"
   ]
  },
  {
   "cell_type": "code",
   "execution_count": 62,
   "metadata": {},
   "outputs": [
    {
     "data": {
      "text/plain": [
       "0      The club isnt the best place to find a lover\\n...\n",
       "1      I found a love for me\\nOh darling, just dive r...\n",
       "2      For all the times that you rained on my parade...\n",
       "3      Ive been a liar, been a thief\\nBeen a lover, b...\n",
       "4      When I was six years old I broke my leg\\nI was...\n",
       "                             ...                        \n",
       "908    Well do it all\\nEverything\\nOn our own\\nWe don...\n",
       "909    For all the times that you rained on my parade...\n",
       "913    My lovers got humor\\nShes the giggle at a fune...\n",
       "915    White lips, pale face\\nBreathing in the snowfl...\n",
       "916    When your legs dont work like they used to bef...\n",
       "Name: Lyrics, Length: 879, dtype: object"
      ]
     },
     "execution_count": 62,
     "metadata": {},
     "output_type": "execute_result"
    }
   ],
   "source": [
    "df['Lyrics']"
   ]
  },
  {
   "cell_type": "code",
   "execution_count": 72,
   "metadata": {},
   "outputs": [],
   "source": [
    "data = df['Lyrics'].str.cat(sep=\"\\n\")\n",
    "n = len(df['Lyrics'].str.cat(sep=\"\\n\"))"
   ]
  },
  {
   "cell_type": "code",
   "execution_count": 73,
   "metadata": {},
   "outputs": [],
   "source": [
    "train_data = data[: int(n*0.9)]\n",
    "val_data = data[int(n * 0.9) :]"
   ]
  },
  {
   "cell_type": "code",
   "execution_count": 75,
   "metadata": {},
   "outputs": [],
   "source": [
    "# encode with tiktoken gpt2 bpe\n",
    "enc = tiktoken.get_encoding(\"gpt2\")\n",
    "train_ids = enc.encode_ordinary(train_data)\n",
    "val_ids = enc.encode_ordinary(val_data)"
   ]
  },
  {
   "cell_type": "code",
   "execution_count": 79,
   "metadata": {},
   "outputs": [],
   "source": [
    "# export to bin files\n",
    "train_ids = np.array(train_ids, dtype=np.uint16)\n",
    "val_ids = np.array(val_ids, dtype=np.uint16)"
   ]
  },
  {
   "cell_type": "code",
   "execution_count": 83,
   "metadata": {},
   "outputs": [],
   "source": [
    "# train_ids.tofile(os.path.join(os.path.dirname(__file__), \"train.bin\"))\n",
    "# val_ids.tofile(os.path.join(os.path.dirname(__file__), \"val.bin\"))\n",
    "# # train has 433,585 tokens\n",
    "# val has 48,662 tokens"
   ]
  },
  {
   "cell_type": "markdown",
   "metadata": {},
   "source": [
    "### Step 2. Define the model"
   ]
  },
  {
   "cell_type": "markdown",
   "metadata": {},
   "source": [
    "Create model.py with GPT class definition:\n",
    "\n",
    "Initialize transformer components (embeddings, blocks etc)\n",
    "Define forward pass: process input through embeddings and transformer blocks\n",
    "Configure optimizer: separate parameters for weight decay\n",
    "For each epoch and batch, perform forward pass, calculate loss and back-propagate and update parameters"
   ]
  },
  {
   "cell_type": "markdown",
   "metadata": {},
   "source": [
    "Then, we will create train.py to initialize model, run training loop and generate texts."
   ]
  },
  {
   "cell_type": "markdown",
   "metadata": {},
   "source": [
    "### Step 3. Train the babyGPT model"
   ]
  },
  {
   "cell_type": "markdown",
   "metadata": {},
   "source": [
    "In this section, we will actually train a baby GPT model. Let's create a new file called config/train_edsheeran.py to define the hyper-parameters:"
   ]
  }
 ],
 "metadata": {
  "kernelspec": {
   "display_name": "langchain",
   "language": "python",
   "name": "python3"
  },
  "language_info": {
   "codemirror_mode": {
    "name": "ipython",
    "version": 3
   },
   "file_extension": ".py",
   "mimetype": "text/x-python",
   "name": "python",
   "nbconvert_exporter": "python",
   "pygments_lexer": "ipython3",
   "version": "3.11.9"
  }
 },
 "nbformat": 4,
 "nbformat_minor": 2
}
