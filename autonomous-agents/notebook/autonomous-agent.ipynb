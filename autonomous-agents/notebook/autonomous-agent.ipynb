{
 "cells": [
  {
   "cell_type": "markdown",
   "metadata": {},
   "source": [
    "### agent-based architecturem"
   ]
  },
  {
   "cell_type": "markdown",
   "metadata": {},
   "source": [
    "autonomously decide and take actions without any human intervention"
   ]
  },
  {
   "cell_type": "markdown",
   "metadata": {},
   "source": [
    "The original framework was ReAct, allowing an LLM to create observations after taking actions via tools. "
   ]
  },
  {
   "cell_type": "code",
   "execution_count": null,
   "metadata": {},
   "outputs": [],
   "source": [
    "next_action = agent.get_action(...)\n",
    "while next_action != AgentFinish:\n",
    "    observation = run(next_action)\n",
    "    next_action = agent.get_action(..., next_action, observation)\n",
    "return next_action"
   ]
  },
  {
   "cell_type": "markdown",
   "metadata": {},
   "source": [
    "## >>> Implementation Steps"
   ]
  },
  {
   "cell_type": "markdown",
   "metadata": {},
   "source": [
    "For this project, we will be using OpenAI function calling and Langchain LCEL to build the Agent."
   ]
  },
  {
   "cell_type": "markdown",
   "metadata": {},
   "source": [
    "### Setup OpenAI key"
   ]
  },
  {
   "cell_type": "code",
   "execution_count": 14,
   "metadata": {},
   "outputs": [],
   "source": [
    "from langchain_community.embeddings import OpenAIEmbeddings\n",
    "from langchain_qdrant import Qdrant\n",
    "from langchain_openai import ChatOpenAI\n",
    "from langchain_core.prompts import ChatPromptTemplate\n",
    "from langchain_core.output_parsers import StrOutputParser\n",
    "from langchain_core.runnables import RunnablePassthrough\n",
    "from langchain.tools import BaseTool, StructuredTool, tool\n",
    "from langchain.chains import (\n",
    "    StuffDocumentsChain, LLMChain, ConversationalRetrievalChain\n",
    ")\n",
    "from dotenv import load_dotenv\n",
    "import os"
   ]
  },
  {
   "cell_type": "code",
   "execution_count": 9,
   "metadata": {},
   "outputs": [],
   "source": [
    "import  nest_asyncio\n",
    "nest_asyncio.apply()"
   ]
  },
  {
   "cell_type": "code",
   "execution_count": 10,
   "metadata": {},
   "outputs": [],
   "source": [
    "env_path = '/Users/andishehtavakoli/Documents/github-project/llm-apps/autonomous-agents/.env'\n",
    "\n",
    "\n",
    "# Load environment variables from the specified .env file\n",
    "load_dotenv(dotenv_path=env_path)\n",
    "# Get the API key from the environment variable\n",
    "api_key = os.getenv('OPENAI_API_KEY')"
   ]
  },
  {
   "cell_type": "markdown",
   "metadata": {},
   "source": [
    "# Step 0: Load Data"
   ]
  },
  {
   "cell_type": "code",
   "execution_count": 24,
   "metadata": {},
   "outputs": [],
   "source": [
    "from pathlib import Path    "
   ]
  },
  {
   "cell_type": "code",
   "execution_count": 32,
   "metadata": {},
   "outputs": [],
   "source": [
    "BASE_DIR = Path('.').resolve().parent"
   ]
  },
  {
   "cell_type": "code",
   "execution_count": 34,
   "metadata": {},
   "outputs": [
    {
     "data": {
      "text/plain": [
       "PosixPath('/Users/andishehtavakoli/Documents/github-project/llm-apps/autonomous-agents')"
      ]
     },
     "execution_count": 34,
     "metadata": {},
     "output_type": "execute_result"
    }
   ],
   "source": [
    "BASE_DIR"
   ]
  },
  {
   "cell_type": "code",
   "execution_count": 39,
   "metadata": {},
   "outputs": [],
   "source": [
    "# pip install pypdf"
   ]
  },
  {
   "cell_type": "code",
   "execution_count": 35,
   "metadata": {},
   "outputs": [],
   "source": [
    "mental_disorder_path = [\n",
    "    BASE_DIR / \"data//generalized_anxiety_disorder.pdf\",\n",
    "    BASE_DIR / \"data/ptsd_open_source.pdf\",\n",
    "    BASE_DIR / \"data/schizophrenia.pdf\",\n",
    "  \n",
    "]"
   ]
  },
  {
   "cell_type": "code",
   "execution_count": 38,
   "metadata": {},
   "outputs": [
    {
     "data": {
      "text/plain": [
       "Document(metadata={'source': '/Users/andishehtavakoli/Documents/github-project/llm-apps/autonomous-agents/data/schizophrenia.pdf', 'page': 0}, page_content='National Institute\\nof Mental Health\\nSchizophrenia')"
      ]
     },
     "execution_count": 38,
     "metadata": {},
     "output_type": "execute_result"
    }
   ],
   "source": [
    "from langchain_community.document_loaders import PyPDFDirectoryLoader\n",
    "\n",
    "loader = PyPDFDirectoryLoader(BASE_DIR / \"data\")\n",
    "\n",
    "docs = loader.load()\n",
    "\n",
    "docs[0]"
   ]
  },
  {
   "cell_type": "markdown",
   "metadata": {},
   "source": [
    " # Step 1: Define Tools"
   ]
  },
  {
   "cell_type": "markdown",
   "metadata": {},
   "source": [
    "1. **scrape_books** : Scrape books and book reviews from google and amazon\n",
    "2. **find_relevant_books**: Retrieves relevant books based on a user query.\n",
    "3. **create_topic_network**: Creates a visualization of topics in the books.\n",
    "4. **qa**: Answers user's questions based on retrieved documents"
   ]
  },
  {
   "cell_type": "code",
   "execution_count": 12,
   "metadata": {},
   "outputs": [],
   "source": []
  },
  {
   "cell_type": "markdown",
   "metadata": {},
   "source": [
    " ### Step 2: Setting up the vector database"
   ]
  },
  {
   "cell_type": "code",
   "execution_count": 43,
   "metadata": {},
   "outputs": [
    {
     "name": "stderr",
     "output_type": "stream",
     "text": [
      "/Users/andishehtavakoli/miniconda3/envs/langchain/lib/python3.11/site-packages/langchain_core/_api/deprecation.py:139: LangChainDeprecationWarning: The class `OpenAIEmbeddings` was deprecated in LangChain 0.0.9 and will be removed in 0.3.0. An updated version of the class exists in the langchain-openai package and should be used instead. To use it run `pip install -U langchain-openai` and import as `from langchain_openai import OpenAIEmbeddings`.\n",
      "  warn_deprecated(\n"
     ]
    }
   ],
   "source": [
    "embeddings = OpenAIEmbeddings(model=\"text-embedding-3-large\")\n",
    "def create_db(documents):\n",
    "    return Qdrant.from_documents(\n",
    "        documents=documents,\n",
    "        embedding=embeddings,\n",
    "        collection_name=\"my_documents\",\n",
    "        location=\":memory:\",\n",
    "        force_recreate=False,\n",
    "    )\n",
    "db = create_db(docs)"
   ]
  },
  {
   "cell_type": "code",
   "execution_count": 42,
   "metadata": {},
   "outputs": [],
   "source": [
    "session_state = {}"
   ]
  },
  {
   "cell_type": "code",
   "execution_count": 44,
   "metadata": {},
   "outputs": [],
   "source": [
    "@tool\n",
    "def find_relevant_books(user_query):\n",
    "    \"\"\"\n",
    "    Return all relevant books based on user query.\n",
    "    Important: This function should be called only for queries that require finding specific books.\n",
    "    For general queries that do not require finding specific books, use other available functions.\n",
    "    \"\"\"\n",
    "    retriever = db.as_retriever(\n",
    "        search_type=\"mmr\", search_kwargs={\"k\": 4, \"lambda_mult\": 0.25}\n",
    "    )\n",
    "    relevant_docs = retriever.get_relevant_documents(user_query)\n",
    "    session_state[\"relevant_docs\"] = relevant_docs\n",
    "    session_state[\"retriever\"] = retriever\n",
    "    return relevant_docs\n",
    "\n",
    "llm = ChatOpenAI(\n",
    "    model=\"gpt-4o\", \n",
    "    temperature=0, \n",
    "    openai_api_key=os.getenv(\"OPEN_AI_KEY\")\n",
    ")\n",
    "@tool\n",
    "def qa(user_query):\n",
    "    \"\"\"\n",
    "    Answer user questions based on the retrieved documents\n",
    "    \"\"\"\n",
    "    retriever = session_state[\"retriever\"]\n",
    "    relevant_docs = session_state.get(\"relevant_docs\")\n",
    "    if relevant_docs is None:\n",
    "        # If no documents are stored, retrieve them\n",
    "        relevant_docs = retriever.get_relevant_documents(user_query)\n",
    "        session_state[\"relevant_docs\"] = relevant_docs\n",
    "    \n",
    "    # Create a chain to answer questions using stored documents\n",
    "    qa = ConversationalRetrievalChain.from_llm(llm, retriever)\n",
    "    chat_history = []\n",
    "    result = qa(\n",
    "        {\"question\": user_query, \"chat_history\": chat_history, \"context\": relevant_docs}\n",
    "    )\n",
    "    return result"
   ]
  },
  {
   "cell_type": "markdown",
   "metadata": {},
   "source": [
    "When decorating these actions using @tool , the main agent will have access to a list of functions, their arguments and docstrings. This enables the agent to smartly choose the most relevant tool for the task."
   ]
  },
  {
   "cell_type": "markdown",
   "metadata": {},
   "source": [
    "we will store the relevant documents and the retriever in a globally defined dictionary session_state . This makes it easier for the agent to access this information."
   ]
  },
  {
   "cell_type": "markdown",
   "metadata": {},
   "source": [
    "# Step 2. Create the prompt"
   ]
  },
  {
   "cell_type": "markdown",
   "metadata": {},
   "source": [
    "Now we set up the prompt with a system message, user message, and a MessagesPlaceholderthat allows the agent to store its intermediate steps:"
   ]
  },
  {
   "cell_type": "code",
   "execution_count": 45,
   "metadata": {},
   "outputs": [],
   "source": [
    "from langchain.prompts import ChatPromptTemplate, MessagesPlaceholder\n",
    "\n",
    "# Define the prompt template\n",
    "prompt_template = \"\"\"\n",
    "You are a helpful AI assistant specializing in answering questions \n",
    "related to books from users. Use retrieved relevant books to \n",
    "answer questions.\n",
    "====================\n",
    "{relevant_docs}\n",
    "\"\"\"\n",
    "prompt = ChatPromptTemplate.from_messages(\n",
    "    [\n",
    "        (\n",
    "            \"system\",\n",
    "            \"\"\"You are helpful AI assistant. Use the following \n",
    "               template for your actions and observations.\"\"\"\n",
    "        ),\n",
    "        (\"user\", prompt_template),\n",
    "        MessagesPlaceholder(variable_name=\"chat_history\"),\n",
    "        (\"user\", \"{input}\"),\n",
    "        MessagesPlaceholder(variable_name=\"agent_scratchpad\"),\n",
    "    ]\n",
    ")"
   ]
  },
  {
   "cell_type": "markdown",
   "metadata": {},
   "source": [
    "The scratchpad is where the agent will store all the intermediate results. For example, if the user asks to create a visualization of all the topics for the first Harry Potter book, the agent will first find the relevant book (the philosopher's stone), store the output in the scratchpad, then reason that it should call create_topic_network next."
   ]
  },
  {
   "cell_type": "markdown",
   "metadata": {},
   "source": [
    "# Step 3. Initialize the agent"
   ]
  },
  {
   "cell_type": "code",
   "execution_count": 46,
   "metadata": {},
   "outputs": [],
   "source": [
    "from langchain.agents.format_scratchpad import format_to_openai_functions\n",
    "from langchain.tools import Tool, format_tool_to_openai_function\n",
    "\n",
    "# These are custom functions for finding books, answering questions, and creating topic networks.\n",
    "tools = [find_relevant_books, qa]\n",
    "# OpenAI Function Formatting. This converts the tools into a format compatible with OpenAI's function calling feature.\n",
    "functions = [format_tool_to_openai_function(f) for f in tools]\n",
    "#This sets up the GPT-4o model with the defined functions.\n",
    "model = ChatOpenAI(\n",
    "    temperature=0,\n",
    "    model_name=\"gpt-4o\",\n",
    ").bind(functions=functions)"
   ]
  },
  {
   "cell_type": "code",
   "execution_count": 47,
   "metadata": {},
   "outputs": [],
   "source": [
    "from langchain.agents import AgentExecutor\n",
    "from langchain.agents.output_parsers import OpenAIFunctionsAgentOutputParser\n",
    "from langchain.schema.runnable import RunnablePassthrough\n",
    "from langchain.memory import ConversationBufferMemory\n",
    "\n",
    "# Set up the agent chain.\n",
    "# including assigning relevant documents and agent scratchpad, applying the prompt, running the model, and parsing the output.\n",
    "agent_chain = (\n",
    "    RunnablePassthrough.assign(\n",
    "        agent_scratchpad=lambda x: format_to_openai_functions(x[\"intermediate_steps\"]),\n",
    "        relevant_docs=lambda x: \"\\n\".join(\n",
    "            str(doc) for doc in session_state.get(\"relevant_docs\", [])\n",
    "        ),\n",
    "    )\n",
    "    | prompt\n",
    "    | model\n",
    "    | OpenAIFunctionsAgentOutputParser()\n",
    ")\n",
    "# Set up a memory component to store conversation history.\n",
    "memory = ConversationBufferMemory(\n",
    "    return_messages=True,\n",
    "    memory_key=\"chat_history\",\n",
    "    input_key=\"input\",\n",
    "    output_key=\"output\",\n",
    ")\n",
    "# Initialize an agent with the agent and defined tools\n",
    "# This combines all components into an executable agent that can process queries and maintain conversation context.\n",
    "# With AgentExecutor, the agent is equipped with the tools and verbose output is enabled, allowing for detailed logging.\n",
    "agent = AgentExecutor(agent=agent_chain, tools=tools, verbose=True, memory=memory)"
   ]
  },
  {
   "cell_type": "code",
   "execution_count": 48,
   "metadata": {},
   "outputs": [
    {
     "name": "stdout",
     "output_type": "stream",
     "text": [
      "\n",
      "\n",
      "\u001b[1m> Entering new AgentExecutor chain...\u001b[0m\n",
      "\u001b[32;1m\u001b[1;3mAnxiety symptoms can vary widely, but common symptoms include:\n",
      "\n",
      "1. **Physical Symptoms:**\n",
      "   - Increased heart rate\n",
      "   - Rapid breathing or hyperventilation\n",
      "   - Sweating\n",
      "   - Trembling or shaking\n",
      "   - Feeling weak or tired\n",
      "   - Gastrointestinal problems\n",
      "   - Headaches\n",
      "   - Insomnia\n",
      "\n",
      "2. **Emotional Symptoms:**\n",
      "   - Feelings of nervousness or restlessness\n",
      "   - A sense of impending danger, panic, or doom\n",
      "   - Increased irritability\n",
      "   - Difficulty concentrating or thinking about anything other than the present worry\n",
      "\n",
      "3. **Behavioral Symptoms:**\n",
      "   - Avoiding situations that trigger anxiety\n",
      "   - Compulsive behaviors (in some anxiety disorders like OCD)\n",
      "   - Social withdrawal\n",
      "\n",
      "4. **Cognitive Symptoms:**\n",
      "   - Excessive worry about everyday situations\n",
      "   - Overthinking worst-case scenarios\n",
      "   - Difficulty controlling worry\n",
      "\n",
      "If you are looking for more detailed information or specific books on anxiety, I can help find relevant books for you. Would you like me to do that?\u001b[0m\n",
      "\n",
      "\u001b[1m> Finished chain.\u001b[0m\n"
     ]
    },
    {
     "data": {
      "text/plain": [
       "{'input': 'what is the symptom of anxiety?',\n",
       " 'chat_history': [HumanMessage(content='what is the symptom of anxiety?'),\n",
       "  AIMessage(content='Anxiety symptoms can vary widely, but common symptoms include:\\n\\n1. **Physical Symptoms:**\\n   - Increased heart rate\\n   - Rapid breathing or hyperventilation\\n   - Sweating\\n   - Trembling or shaking\\n   - Feeling weak or tired\\n   - Gastrointestinal problems\\n   - Headaches\\n   - Insomnia\\n\\n2. **Emotional Symptoms:**\\n   - Feelings of nervousness or restlessness\\n   - A sense of impending danger, panic, or doom\\n   - Increased irritability\\n   - Difficulty concentrating or thinking about anything other than the present worry\\n\\n3. **Behavioral Symptoms:**\\n   - Avoiding situations that trigger anxiety\\n   - Compulsive behaviors (in some anxiety disorders like OCD)\\n   - Social withdrawal\\n\\n4. **Cognitive Symptoms:**\\n   - Excessive worry about everyday situations\\n   - Overthinking worst-case scenarios\\n   - Difficulty controlling worry\\n\\nIf you are looking for more detailed information or specific books on anxiety, I can help find relevant books for you. Would you like me to do that?')],\n",
       " 'output': 'Anxiety symptoms can vary widely, but common symptoms include:\\n\\n1. **Physical Symptoms:**\\n   - Increased heart rate\\n   - Rapid breathing or hyperventilation\\n   - Sweating\\n   - Trembling or shaking\\n   - Feeling weak or tired\\n   - Gastrointestinal problems\\n   - Headaches\\n   - Insomnia\\n\\n2. **Emotional Symptoms:**\\n   - Feelings of nervousness or restlessness\\n   - A sense of impending danger, panic, or doom\\n   - Increased irritability\\n   - Difficulty concentrating or thinking about anything other than the present worry\\n\\n3. **Behavioral Symptoms:**\\n   - Avoiding situations that trigger anxiety\\n   - Compulsive behaviors (in some anxiety disorders like OCD)\\n   - Social withdrawal\\n\\n4. **Cognitive Symptoms:**\\n   - Excessive worry about everyday situations\\n   - Overthinking worst-case scenarios\\n   - Difficulty controlling worry\\n\\nIf you are looking for more detailed information or specific books on anxiety, I can help find relevant books for you. Would you like me to do that?'}"
      ]
     },
     "execution_count": 48,
     "metadata": {},
     "output_type": "execute_result"
    }
   ],
   "source": [
    "agent.invoke(\n",
    "    {\n",
    "        \"input\": \"what is the symptom of anxiety?\"\n",
    "    }\n",
    ")"
   ]
  },
  {
   "cell_type": "markdown",
   "metadata": {},
   "source": [
    "#  Step 4. Creating the User Interface with Panel"
   ]
  },
  {
   "cell_type": "code",
   "execution_count": null,
   "metadata": {},
   "outputs": [],
   "source": []
  },
  {
   "cell_type": "code",
   "execution_count": null,
   "metadata": {},
   "outputs": [],
   "source": []
  },
  {
   "cell_type": "code",
   "execution_count": null,
   "metadata": {},
   "outputs": [],
   "source": []
  }
 ],
 "metadata": {
  "kernelspec": {
   "display_name": "langchain",
   "language": "python",
   "name": "python3"
  },
  "language_info": {
   "codemirror_mode": {
    "name": "ipython",
    "version": 3
   },
   "file_extension": ".py",
   "mimetype": "text/x-python",
   "name": "python",
   "nbconvert_exporter": "python",
   "pygments_lexer": "ipython3",
   "version": "3.11.9"
  }
 },
 "nbformat": 4,
 "nbformat_minor": 2
}
